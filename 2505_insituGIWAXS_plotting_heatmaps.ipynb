{
 "cells": [
  {
   "cell_type": "code",
   "execution_count": null,
   "id": "1c9219bc",
   "metadata": {},
   "outputs": [],
   "source": [
    "import matplotlib.pyplot as plt\n",
    "import seaborn as sns\n",
    "import numpy as np\n",
    "import copy\n",
    "from mpl_toolkits.mplot3d import Axes3D\n",
    "import pandas as pd\n",
    "import matplotlib.cm as cm"
   ]
  },
  {
   "cell_type": "code",
   "execution_count": null,
   "id": "c91bca27",
   "metadata": {
    "scrolled": true
   },
   "outputs": [],
   "source": [
    "### filepaths go here \n",
    "### csv with first colum as q-values and following columns are integrations\n",
    "### top row of csv should be film thickness in nm\n",
    "\n",
    "#filepath = r\"/home/goughl/Documents/beamtime_data/2504_GIWAXS_ALS/rylene_project/all_int_DCV4T_50_IP.csv\"\n",
    "\n",
    "\n",
    "df = pd.read_csv(filepath, skiprows=[1])\n",
    "\n",
    "# set x-axis colunm as the index (q-values)\n",
    "df.set_index(df.columns[0], inplace=True)\n",
    "\n",
    "# get the background column (first dataset column, first integration in an in situ run)\n",
    "background = df.iloc[:, 0]\n",
    "\n",
    "###subtract the background from all datasets\n",
    "adjusted_df = df.sub(background, axis=0)"
   ]
  },
  {
   "cell_type": "code",
   "execution_count": null,
   "id": "166a6757",
   "metadata": {},
   "outputs": [],
   "source": [
    "# ### plotting the data with no manipulation \n",
    "\n",
    "# plt.figure(figsize=(10, 6))\n",
    "\n",
    "# for column in df.columns:\n",
    "#     plt.plot(df.index, df[column], label=column)\n",
    "\n",
    "# plt.xlabel(\"Q (1/Å)\")\n",
    "# plt.ylabel(\"Intensity (a.u.)\")\n",
    "# plt.legend()\n",
    "# plt.grid(True)\n",
    "# plt.show()"
   ]
  },
  {
   "cell_type": "code",
   "execution_count": null,
   "id": "a8de7f9f",
   "metadata": {},
   "outputs": [],
   "source": [
    "### plotting in situ integrations as colour gradient\n",
    "\n",
    "### run this block before the next one otherwise you'll get an error about colour scales\n",
    "### if that happens just restart the kernal and run all the cells from the top in order\n",
    "\n",
    "\n",
    "filepath = r\"/home/goughl/Documents/beamtime_data/2504_GIWAXS_ALS/rylene_project/all_int_NTCDA_DCV4T_50_OoP.csv\"\n",
    "df = pd.read_csv(filepath, skiprows=[1])\n",
    "\n",
    "# set q-values as index\n",
    "df.set_index(df.columns[0], inplace=True)\n",
    "\n",
    "##########optional: subtract background (first column)\n",
    "# background = df.iloc[:, 0]     ### uncomment this line and line below to remove first dataset as background\n",
    "# df = df.sub(background, axis=0)\n",
    "\n",
    "\n",
    "num_cols = len(df.columns)\n",
    "colors = cm.get_cmap('Blues')(np.linspace(0.3, 1, num_cols)) ## change 'Blues' to different colour\n",
    "\n",
    "\n",
    "plt.figure(figsize=(8, 6))\n",
    "plt.rcParams['font.family'] = 'sans-serif'\n",
    "plt.rcParams['font.sans-serif'] = ['DejaVu Sans', 'Liberation Sans', 'sans-serif']\n",
    "for col, color in zip(df.columns, colors):\n",
    "    plt.plot(df.index, df[col], label=col, color=color)\n",
    "\n",
    "plt.xlabel(\"Q (1/Å)\")\n",
    "plt.ylabel(\"Intensity (a.u.)\")\n",
    "plt.title(\"Out of plane integration as a function of annealing time \\n (DCV4T at 50°C)\")\n",
    "plt.legend()\n",
    "\n",
    "\n",
    "plt.grid(True)\n",
    "\n",
    "plt.tight_layout()\n",
    "plt.show()"
   ]
  },
  {
   "cell_type": "code",
   "execution_count": null,
   "id": "92125e14",
   "metadata": {},
   "outputs": [],
   "source": [
    "### customisable heatmap\n",
    "\n",
    "# can shift all the datasets by an increment here\n",
    "#shifted_df = adjusted_df + 0.05\n",
    "\n",
    "#shifted_df.to_csv('/home/goughl/Documents/EA_paper_working/EA_DCV5T_RT_thickfilm/bg_removed_thick_OoP.csv', index=False)\n",
    "\n",
    " # change cmap='viridis' to chane to s\n",
    "cm = plt.cm.RdYlBu_r\n",
    "cm.set_bad(cm(0))  # Set 'bad' values to a specific color\n",
    "\n",
    "\n",
    "\n",
    "# to plot only a certain range of q values change these two numbers and uncomment\n",
    "#shifted_df = adjusted_df[(adjusted_df.index >= 0.5) & (adjusted_df.index <= 1.25)]\n",
    "\n",
    "# select only the range of datasets between 0 - 50 nm\n",
    "\n",
    "plt.figure(figsize=(8, 6))\n",
    "\n",
    "# change vmin and vmax to change the scale range\n",
    "sns.heatmap(df.T, cmap=cm, cbar_kws={'label': 'Intensity Scale (a.u.)'},\n",
    "            vmin=0, vmax=15)\n",
    "\n",
    "plt.xlabel(\"Q (1/Å)\")\n",
    "plt.ylabel(\"Annealing time (s)\")\n",
    "plt.title(\"In plane integration as a function of annealing time \\n (PTCDA/DCV4T at 50°C)\")\n",
    "\n",
    "x_values = df.index \n",
    "plt.xticks(\n",
    "    np.arange(0, len(x_values), int(0.1 / (x_values[1] - x_values[0]))),\n",
    "    labels=np.round(x_values[::int(0.1 / (x_values[1] - x_values[0]))], 1),\n",
    "    rotation=45\n",
    ")\n",
    "\n",
    "plt.show()\n"
   ]
  },
  {
   "cell_type": "code",
   "execution_count": null,
   "id": "f8e2ece5",
   "metadata": {},
   "outputs": [],
   "source": []
  },
  {
   "cell_type": "code",
   "execution_count": null,
   "id": "2a6d7e0c",
   "metadata": {},
   "outputs": [],
   "source": []
  }
 ],
 "metadata": {
  "kernelspec": {
   "display_name": "Python 3 (ipykernel)",
   "language": "python",
   "name": "python3"
  },
  "language_info": {
   "codemirror_mode": {
    "name": "ipython",
    "version": 3
   },
   "file_extension": ".py",
   "mimetype": "text/x-python",
   "name": "python",
   "nbconvert_exporter": "python",
   "pygments_lexer": "ipython3",
   "version": "3.10.9"
  }
 },
 "nbformat": 4,
 "nbformat_minor": 5
}
